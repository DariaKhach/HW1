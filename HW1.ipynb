{
 "cells": [
  {
   "cell_type": "code",
   "execution_count": 5,
   "metadata": {},
   "outputs": [
    {
     "name": "stdout",
     "output_type": "stream",
     "text": [
      "Фраза 1 длиннее фразы 2\n"
     ]
    }
   ],
   "source": [
    "##Задание_1\n",
    "phrase_1 = 'Насколько проще было бы писать программы, если бы не заказчики'\n",
    "phrase_2 = '640Кб должно хватить для любых задач. Билл Гейтс (по легенде)'\n",
    "if len(phrase_1) > len(phrase_2):\n",
    "    print ('Фраза 1 длиннее фразы 2')"
   ]
  },
  {
   "cell_type": "code",
   "execution_count": 15,
   "metadata": {},
   "outputs": [
    {
     "name": "stdout",
     "output_type": "stream",
     "text": [
      "Високосный год\n"
     ]
    }
   ],
   "source": [
    "##Задание_2\n",
    "year = 2020\n",
    "if year % 4 > 0:\n",
    "    print ('Обычный год')\n",
    "elif year % 100 > 0:\n",
    "    print ('Високосный год')\n",
    "elif year % 100 == 0 and year % 4 == 0 and year % 400 > 0:\n",
    "    print ('Обычный год')\n",
    "else: \n",
    "    print ('Високосный год')\n",
    "    "
   ]
  },
  {
   "cell_type": "code",
   "execution_count": 25,
   "metadata": {},
   "outputs": [
    {
     "name": "stdout",
     "output_type": "stream",
     "text": [
      "Ваш знак зодиака: Скорпион\n"
     ]
    }
   ],
   "source": [
    "##Задание_3\n",
    "day = 40\n",
    "mounth = 'октябрь'\n",
    "if (day >= 21 and mounth == 'март') or (day <= 20 and mounth == 'апрель'):\n",
    "    print ('Ваш знак зодиака: Овен')\n",
    "elif (day >= 21 and mounth == 'апрель') or (day <= 21 and mounth == 'май'):\n",
    "    print ('Ваш знак зодиака: Телец')\n",
    "elif (day >= 22 and mounth == 'май') or (day <= 21 and mounth == 'июнь'):\n",
    "    print ('Ваш знак зодиака: Близнецы')\n",
    "elif (day >= 22 and mounth == 'июнь') or (day <= 22 and mounth == 'июль'):\n",
    "    print ('Ваш знак зодиака: Рак')\n",
    "elif (day >= 23 and mounth == 'июль') or (day <= 21 and mounth == 'август'):\n",
    "    print ('Ваш знак зодиака: Лев')\n",
    "elif (day >= 22 and mounth == 'август') or (day <= 23 and mounth == 'сентябрь'):\n",
    "    print ('Ваш знак зодиака: Дева')\n",
    "elif (day >= 24 and mounth == 'сентябрь') or (day <= 23 and mounth == 'октябрь'):\n",
    "    print ('Ваш знак зодиака: Весы')\n",
    "elif (day >= 24 and mounth == 'октябрь') or (day <= 23 and mounth == 'ноябрь'):\n",
    "    print ('Ваш знак зодиака: Скорпион')\n",
    "elif (day >= 24 and mounth == 'ноябрь') or (day <= 22 and mounth == 'декабрь'):\n",
    "    print ('Ваш знак зодиака: Стрелец')\n",
    "elif (day >= 23 and mounth == 'декабрь') or (day <= 20 and mounth == 'январь'):\n",
    "    print ('Ваш знак зодиака: Козерог')\n",
    "elif (day >= 21 and mounth == 'январь') or (day <= 19 and mounth == 'февраль'):\n",
    "    print ('Ваш знак зодиака: Водолей')\n",
    "elif (day >= 20 and mounth == 'февраль') or (day <= 19 and mounth == 'март'):\n",
    "    print ('Ваш знак зодиака: Рыбы')"
   ]
  },
  {
   "cell_type": "code",
   "execution_count": 28,
   "metadata": {},
   "outputs": [
    {
     "name": "stdout",
     "output_type": "stream",
     "text": [
      "Коробка №2\n"
     ]
    }
   ],
   "source": [
    "width = 10\n",
    "length = 205\n",
    "height = 5\n",
    "if width < 15 and length < 15 and height < 15:\n",
    "    print ('Коробка №1')\n",
    "elif (width > 15 or length > 15 or height > 15) and (width < 50 and length < 50 and height < 50):\n",
    "    print ('Коробка №2')\n",
    "elif length > 200:\n",
    "    print ('Упаковка для лыж')\n",
    "else:\n",
    "    print ('Стандартная коробка №3')"
   ]
  }
 ],
 "metadata": {
  "kernelspec": {
   "display_name": "Python 3",
   "language": "python",
   "name": "python3"
  },
  "language_info": {
   "codemirror_mode": {
    "name": "ipython",
    "version": 3
   },
   "file_extension": ".py",
   "mimetype": "text/x-python",
   "name": "python",
   "nbconvert_exporter": "python",
   "pygments_lexer": "ipython3",
   "version": "3.8.5"
  }
 },
 "nbformat": 4,
 "nbformat_minor": 4
}
